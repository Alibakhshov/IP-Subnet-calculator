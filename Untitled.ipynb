{
 "cells": [
  {
   "cell_type": "code",
   "execution_count": 1,
   "id": "74093272",
   "metadata": {},
   "outputs": [
    {
     "name": "stdout",
     "output_type": "stream",
     "text": [
      "Input a binary number: 10101111\n",
      "The decimal value of the number is 175\n"
     ]
    }
   ],
   "source": [
    "b_num = list(input(\"Input a binary number: \"))\n",
    "value = 0\n",
    "\n",
    "for i in range(len(b_num)):\n",
    "\tdigit = b_num.pop()\n",
    "\tif digit == '1':\n",
    "\t\tvalue = value + pow(2, i)\n",
    "print(\"The decimal value of the number is\", value)"
   ]
  },
  {
   "cell_type": "code",
   "execution_count": 2,
   "id": "e8952762",
   "metadata": {},
   "outputs": [
    {
     "name": "stdout",
     "output_type": "stream",
     "text": [
      "Enter the Binary Number: 10101111\n",
      "Decimal number is   175\n"
     ]
    }
   ],
   "source": [
    "#get an binary number input from  user\n",
    "binary_number = int(input(\"Enter the Binary Number: \"))\n",
    "#create a decimal variable and set to 0\n",
    "decimal_value=0\n",
    "#initialize a variable i and set to 1\n",
    "i = 1\n",
    "#get the length of the binary number\n",
    "length = len(str(binary_number))\n",
    "#logic to convert binary to decimal\n",
    "for k in range(length):\n",
    "    reminder = binary_number % 10\n",
    "    decimal_value = decimal_value + (reminder * i)\n",
    "    i = i * 2\n",
    "    binary_number = int(binary_number/10)\n",
    "#display the decimal value\n",
    "print(\"Decimal number is  \", decimal_value)"
   ]
  },
  {
   "cell_type": "code",
   "execution_count": null,
   "id": "9e747e09",
   "metadata": {},
   "outputs": [],
   "source": []
  }
 ],
 "metadata": {
  "kernelspec": {
   "display_name": "Python 3 (ipykernel)",
   "language": "python",
   "name": "python3"
  },
  "language_info": {
   "codemirror_mode": {
    "name": "ipython",
    "version": 3
   },
   "file_extension": ".py",
   "mimetype": "text/x-python",
   "name": "python",
   "nbconvert_exporter": "python",
   "pygments_lexer": "ipython3",
   "version": "3.9.7"
  }
 },
 "nbformat": 4,
 "nbformat_minor": 5
}
