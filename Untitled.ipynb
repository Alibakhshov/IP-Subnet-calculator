{
 "cells": [
  {
   "cell_type": "code",
   "execution_count": 6,
   "id": "9cd22fc7",
   "metadata": {},
   "outputs": [
    {
     "name": "stdout",
     "output_type": "stream",
     "text": [
      "fsdf1231\n",
      "Number of digits: 4\n"
     ]
    }
   ],
   "source": [
    "num = int(input(\"fsdf\"))\n",
    "count = 0\n",
    "\n",
    "while num != 0:\n",
    "    num //= 10\n",
    "    count += 1\n",
    "\n",
    "print(\"Number of digits: \" + str(count))"
   ]
  },
  {
   "cell_type": "code",
   "execution_count": 2,
   "id": "74484942",
   "metadata": {},
   "outputs": [
    {
     "name": "stdout",
     "output_type": "stream",
     "text": [
      "Enter the Binary Number: 10101111\n",
      "Decimal number is   175\n"
     ]
    }
   ],
   "source": [
    "#get an binary number input from  user\n",
    "binary_number = int(input(\"Enter the Binary Number: \"))\n",
    "#create a decimal variable and set to 0\n",
    "decimal_value=0\n",
    "#initialize a variable i and set to 1\n",
    "i = 1\n",
    "#get the length of the binary number\n",
    "length = len(str(binary_number))\n",
    "#logic to convert binary to decimal\n",
    "for k in range(length):\n",
    "    reminder = binary_number % 10\n",
    "    decimal_value = decimal_value + (reminder * i)\n",
    "    i = i * 2\n",
    "    binary_number = int(binary_number/10)\n",
    "#display the decimal value\n",
    "print(\"Decimal number is  \", decimal_value)"
   ]
  },
  {
   "cell_type": "code",
   "execution_count": 5,
   "id": "2eb4867c",
   "metadata": {},
   "outputs": [
    {
     "name": "stdout",
     "output_type": "stream",
     "text": [
      "10101111\n"
     ]
    }
   ],
   "source": [
    "decNum = 175\n",
    "print(bin(decNum)[2:])\n",
    "                    "
   ]
  },
  {
   "cell_type": "code",
   "execution_count": null,
   "id": "68bf99b6",
   "metadata": {},
   "outputs": [],
   "source": []
  }
 ],
 "metadata": {
  "kernelspec": {
   "display_name": "Python 3 (ipykernel)",
   "language": "python",
   "name": "python3"
  },
  "language_info": {
   "codemirror_mode": {
    "name": "ipython",
    "version": 3
   },
   "file_extension": ".py",
   "mimetype": "text/x-python",
   "name": "python",
   "nbconvert_exporter": "python",
   "pygments_lexer": "ipython3",
   "version": "3.9.7"
  }
 },
 "nbformat": 4,
 "nbformat_minor": 5
}
