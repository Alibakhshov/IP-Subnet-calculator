{
 "cells": [
  {
   "cell_type": "code",
   "execution_count": 6,
   "id": "9cd22fc7",
   "metadata": {},
   "outputs": [
    {
     "name": "stdout",
     "output_type": "stream",
     "text": [
      "fsdf1231\n",
      "Number of digits: 4\n"
     ]
    }
   ],
   "source": [
    "num = int(input(\"fsdf\"))\n",
    "count = 0\n",
    "\n",
    "while num != 0:\n",
    "    num //= 10\n",
    "    count += 1\n",
    "\n",
    "print(\"Number of digits: \" + str(count))"
   ]
  },
  {
   "cell_type": "code",
   "execution_count": 2,
   "id": "74484942",
   "metadata": {},
   "outputs": [
    {
     "name": "stdout",
     "output_type": "stream",
     "text": [
      "Enter the Binary Number: 10101111\n",
      "Decimal number is   175\n"
     ]
    }
   ],
   "source": [
    "#get an binary number input from  user\n",
    "binary_number = int(input(\"Enter the Binary Number: \"))\n",
    "#create a decimal variable and set to 0\n",
    "decimal_value=0\n",
    "#initialize a variable i and set to 1\n",
    "i = 1\n",
    "#get the length of the binary number\n",
    "length = len(str(binary_number))\n",
    "#logic to convert binary to decimal\n",
    "for k in range(length):\n",
    "    reminder = binary_number % 10\n",
    "    decimal_value = decimal_value + (reminder * i)\n",
    "    i = i * 2\n",
    "    binary_number = int(binary_number/10)\n",
    "#display the decimal value\n",
    "print(\"Decimal number is  \", decimal_value)"
   ]
  },
  {
   "cell_type": "code",
   "execution_count": 14,
   "id": "2eb4867c",
   "metadata": {},
   "outputs": [
    {
     "ename": "SyntaxError",
     "evalue": "invalid syntax (Temp/ipykernel_10692/3383688110.py, line 5)",
     "output_type": "error",
     "traceback": [
      "\u001b[1;36m  File \u001b[1;32m\"C:\\Users\\RAUF~1.ALI\\AppData\\Local\\Temp/ipykernel_10692/3383688110.py\"\u001b[1;36m, line \u001b[1;32m5\u001b[0m\n\u001b[1;33m    elseif (ip[0] >=128 and ip[0] <= 191):\u001b[0m\n\u001b[1;37m                                          ^\u001b[0m\n\u001b[1;31mSyntaxError\u001b[0m\u001b[1;31m:\u001b[0m invalid syntax\n"
     ]
    }
   ],
   "source": [
    "\n",
    "#function to determine the class of an Ip address\n",
    "def findClass(ip):\n",
    "  if (ip[0] >= 0 and ip[0] <= 127):\n",
    "    \n",
    "    return \"A\"\n",
    "\n",
    "  elseif (ip[0] >=128 and ip[0] <= 191):\n",
    "    return \"B\"\n",
    "\n",
    "  elseif (ip[0] >= 192 and ip[0] <= 223):\n",
    "    return \"C\"\n",
    "   \n",
    "  elseif (ip[0] >= 224 and ip[0] <= 239):\n",
    "    return \"D\"\n",
    "   \n",
    "  else:\n",
    "    return \"E\"\n",
    " \n",
    "#function to separate network and host id from the given ip address\n",
    "def separate(ip, className):\n",
    "   \n",
    "  #for class A network\n",
    "  if(className == \"A\"):\n",
    "    print(\"Network Address is : \", ip[0])\n",
    "    print(\"Host Address is : \", \".\".join(ip[1:4]))\n",
    "     \n",
    "  #for class B network\n",
    "  else if(className == \"B\"):\n",
    "    print(\"Network Address is : \", \".\".join(ip[0:2]))\n",
    "    print(\"Host Address is : \", \".\".join(ip[2:4]))\n",
    "     \n",
    "  #for class C network\n",
    "  else if(className == \"C\"):\n",
    "    print(\"Network Address is : \", \".\".join(ip[0:3]))\n",
    "    print(\"Host Address is : \", ip[3])\n",
    "     \n",
    "  else:\n",
    "    print(\"In this Class, IP address is not divided into Network and Host ID\")\n",
    "   \n",
    "   \n",
    "#driver's code\n",
    "if __name__ == \"__main__\":\n",
    "   \n",
    "  ip = \"192.226.12.11\"\n",
    "  ip = ip.split(\".\")\n",
    "  ip = [int(i) for i in ip]\n",
    "   \n",
    "  #getting the network class\n",
    "  networkClass = findClass(ip)\n",
    "  print(\"Given IP address belongs to class : \", networkClass)\n",
    "   \n",
    "  #printing network and host id\n",
    "  ip = [str(i) for i in ip]\n",
    "  separate(ip, networkClass)\n",
    "                    "
   ]
  },
  {
   "cell_type": "code",
   "execution_count": null,
   "id": "444ec9f9",
   "metadata": {},
   "outputs": [],
   "source": []
  },
  {
   "cell_type": "code",
   "execution_count": null,
   "id": "603f7eea",
   "metadata": {},
   "outputs": [],
   "source": []
  }
 ],
 "metadata": {
  "kernelspec": {
   "display_name": "Python 3 (ipykernel)",
   "language": "python",
   "name": "python3"
  },
  "language_info": {
   "codemirror_mode": {
    "name": "ipython",
    "version": 3
   },
   "file_extension": ".py",
   "mimetype": "text/x-python",
   "name": "python",
   "nbconvert_exporter": "python",
   "pygments_lexer": "ipython3",
   "version": "3.9.7"
  }
 },
 "nbformat": 4,
 "nbformat_minor": 5
}
