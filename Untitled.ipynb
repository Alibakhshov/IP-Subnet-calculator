{
 "cells": [
  {
   "cell_type": "code",
   "execution_count": 6,
   "id": "9cd22fc7",
   "metadata": {},
   "outputs": [
    {
     "name": "stdout",
     "output_type": "stream",
     "text": [
      "fsdf1231\n",
      "Number of digits: 4\n"
     ]
    }
   ],
   "source": [
    "num = int(input(\"fsdf\"))\n",
    "count = 0\n",
    "\n",
    "while num != 0:\n",
    "    num //= 10\n",
    "    count += 1\n",
    "\n",
    "print(\"Number of digits: \" + str(count))"
   ]
  },
  {
   "cell_type": "code",
   "execution_count": 2,
   "id": "74484942",
   "metadata": {},
   "outputs": [
    {
     "name": "stdout",
     "output_type": "stream",
     "text": [
      "Enter the Binary Number: 10101111\n",
      "Decimal number is   175\n"
     ]
    }
   ],
   "source": [
    "#get an binary number input from  user\n",
    "binary_number = int(input(\"Enter the Binary Number: \"))\n",
    "#create a decimal variable and set to 0\n",
    "decimal_value=0\n",
    "#initialize a variable i and set to 1\n",
    "i = 1\n",
    "#get the length of the binary number\n",
    "length = len(str(binary_number))\n",
    "#logic to convert binary to decimal\n",
    "for k in range(length):\n",
    "    reminder = binary_number % 10\n",
    "    decimal_value = decimal_value + (reminder * i)\n",
    "    i = i * 2\n",
    "    binary_number = int(binary_number/10)\n",
    "#display the decimal value\n",
    "print(\"Decimal number is  \", decimal_value)"
   ]
  },
  {
   "cell_type": "code",
   "execution_count": 14,
   "id": "2eb4867c",
   "metadata": {},
   "outputs": [
    {
     "ename": "SyntaxError",
     "evalue": "invalid syntax (Temp/ipykernel_10692/3383688110.py, line 5)",
     "output_type": "error",
     "traceback": [
      "\u001b[1;36m  File \u001b[1;32m\"C:\\Users\\RAUF~1.ALI\\AppData\\Local\\Temp/ipykernel_10692/3383688110.py\"\u001b[1;36m, line \u001b[1;32m5\u001b[0m\n\u001b[1;33m    elseif (ip[0] >=128 and ip[0] <= 191):\u001b[0m\n\u001b[1;37m                                          ^\u001b[0m\n\u001b[1;31mSyntaxError\u001b[0m\u001b[1;31m:\u001b[0m invalid syntax\n"
     ]
    }
   ],
   "source": [
    "\n",
    "#function to determine the class of an Ip address\n",
    "def findClass(ip):\n",
    "  if (ip[0] >= 0 and ip[0] <= 127):\n",
    "    \n",
    "    return \"A\"\n",
    "\n",
    "  elseif (ip[0] >=128 and ip[0] <= 191):\n",
    "    return \"B\"\n",
    "\n",
    "  elseif (ip[0] >= 192 and ip[0] <= 223):\n",
    "    return \"C\"\n",
    "   \n",
    "  elseif (ip[0] >= 224 and ip[0] <= 239):\n",
    "    return \"D\"\n",
    "   \n",
    "  else:\n",
    "    return \"E\"\n",
    " \n",
    "#function to separate network and host id from the given ip address\n",
    "def separate(ip, className):\n",
    "   \n",
    "  #for class A network\n",
    "  if(className == \"A\"):\n",
    "    print(\"Network Address is : \", ip[0])\n",
    "    print(\"Host Address is : \", \".\".join(ip[1:4]))\n",
    "     \n",
    "  #for class B network\n",
    "  else if(className == \"B\"):\n",
    "    print(\"Network Address is : \", \".\".join(ip[0:2]))\n",
    "    print(\"Host Address is : \", \".\".join(ip[2:4]))\n",
    "     \n",
    "  #for class C network\n",
    "  else if(className == \"C\"):\n",
    "    print(\"Network Address is : \", \".\".join(ip[0:3]))\n",
    "    print(\"Host Address is : \", ip[3])\n",
    "     \n",
    "  else:\n",
    "    print(\"In this Class, IP address is not divided into Network and Host ID\")\n",
    "   \n",
    "   \n",
    "#driver's code\n",
    "if __name__ == \"__main__\":\n",
    "   \n",
    "  ip = \"192.226.12.11\"\n",
    "  ip = ip.split(\".\")\n",
    "  ip = [int(i) for i in ip]\n",
    "   \n",
    "  #getting the network class\n",
    "  networkClass = findClass(ip)\n",
    "  print(\"Given IP address belongs to class : \", networkClass)\n",
    "   \n",
    "  #printing network and host id\n",
    "  ip = [str(i) for i in ip]\n",
    "  separate(ip, networkClass)\n",
    "                    "
   ]
  },
  {
   "cell_type": "code",
   "execution_count": 18,
   "id": "3496a51a",
   "metadata": {},
   "outputs": [
    {
     "name": "stdout",
     "output_type": "stream",
     "text": [
      "Is global: False\n",
      "Is link-local: False\n",
      "192.168.1.2\n",
      "192.168.1.0\n"
     ]
    },
    {
     "ename": "ValueError",
     "evalue": "192.168.1.0/1 has host bits set",
     "output_type": "error",
     "traceback": [
      "\u001b[1;31m---------------------------------------------------------------------------\u001b[0m",
      "\u001b[1;31mValueError\u001b[0m                                Traceback (most recent call last)",
      "\u001b[1;32mC:\\Users\\RAUF~1.ALI\\AppData\\Local\\Temp/ipykernel_10692/147192884.py\u001b[0m in \u001b[0;36m<module>\u001b[1;34m\u001b[0m\n\u001b[0;32m     19\u001b[0m \u001b[1;33m\u001b[0m\u001b[0m\n\u001b[0;32m     20\u001b[0m \u001b[1;31m# initialize an IPv4 Network\u001b[0m\u001b[1;33m\u001b[0m\u001b[1;33m\u001b[0m\u001b[0m\n\u001b[1;32m---> 21\u001b[1;33m \u001b[0mnetwork\u001b[0m \u001b[1;33m=\u001b[0m \u001b[0mipaddress\u001b[0m\u001b[1;33m.\u001b[0m\u001b[0mIPv4Network\u001b[0m\u001b[1;33m(\u001b[0m\u001b[1;34m\"192.168.1.0/1\"\u001b[0m\u001b[1;33m)\u001b[0m\u001b[1;33m\u001b[0m\u001b[1;33m\u001b[0m\u001b[0m\n\u001b[0m\u001b[0;32m     22\u001b[0m \u001b[1;33m\u001b[0m\u001b[0m\n\u001b[0;32m     23\u001b[0m \u001b[1;31m# get the network mask\u001b[0m\u001b[1;33m\u001b[0m\u001b[1;33m\u001b[0m\u001b[0m\n",
      "\u001b[1;32m~\\AppData\\Local\\Anaconda3\\lib\\ipaddress.py\u001b[0m in \u001b[0;36m__init__\u001b[1;34m(self, address, strict)\u001b[0m\n\u001b[0;32m   1507\u001b[0m         \u001b[1;32mif\u001b[0m \u001b[0mpacked\u001b[0m \u001b[1;33m&\u001b[0m \u001b[0mint\u001b[0m\u001b[1;33m(\u001b[0m\u001b[0mself\u001b[0m\u001b[1;33m.\u001b[0m\u001b[0mnetmask\u001b[0m\u001b[1;33m)\u001b[0m \u001b[1;33m!=\u001b[0m \u001b[0mpacked\u001b[0m\u001b[1;33m:\u001b[0m\u001b[1;33m\u001b[0m\u001b[1;33m\u001b[0m\u001b[0m\n\u001b[0;32m   1508\u001b[0m             \u001b[1;32mif\u001b[0m \u001b[0mstrict\u001b[0m\u001b[1;33m:\u001b[0m\u001b[1;33m\u001b[0m\u001b[1;33m\u001b[0m\u001b[0m\n\u001b[1;32m-> 1509\u001b[1;33m                 \u001b[1;32mraise\u001b[0m \u001b[0mValueError\u001b[0m\u001b[1;33m(\u001b[0m\u001b[1;34m'%s has host bits set'\u001b[0m \u001b[1;33m%\u001b[0m \u001b[0mself\u001b[0m\u001b[1;33m)\u001b[0m\u001b[1;33m\u001b[0m\u001b[1;33m\u001b[0m\u001b[0m\n\u001b[0m\u001b[0;32m   1510\u001b[0m             \u001b[1;32melse\u001b[0m\u001b[1;33m:\u001b[0m\u001b[1;33m\u001b[0m\u001b[1;33m\u001b[0m\u001b[0m\n\u001b[0;32m   1511\u001b[0m                 self.network_address = IPv4Address(packed &\n",
      "\u001b[1;31mValueError\u001b[0m: 192.168.1.0/1 has host bits set"
     ]
    }
   ],
   "source": [
    "import ipaddress\n",
    "# initialize an IPv4 Address\n",
    "ip = ipaddress.IPv4Address(\"192.168.1.1\")\n",
    "\n",
    "# print True if the IP address is global\n",
    "print(\"Is global:\", ip.is_global)\n",
    "\n",
    "# print Ture if the IP address is Link-local\n",
    "print(\"Is link-local:\", ip.is_link_local)\n",
    "\n",
    "# ip.is_reserved\n",
    "# ip.is_multicast\n",
    "\n",
    "# next ip address\n",
    "print(ip + 1)\n",
    "\n",
    "# previous ip address\n",
    "print(ip - 1)\n",
    "\n",
    "# initialize an IPv4 Network\n",
    "network = ipaddress.IPv4Network(\"192.168.1.0/20\")\n",
    "\n",
    "# get the network mask\n",
    "print(\"Network mask:\", network.netmask)\n",
    "\n",
    "# get the broadcast address\n",
    "print(\"Broadcast address:\", network.broadcast_address)\n",
    "\n",
    "# print the number of IP addresses under this network\n",
    "print(\"Number of hosts under\", str(network), \":\", network.num_addresses)\n",
    "\n",
    "# iterate over all the hosts under this network\n",
    "print(\"Hosts under\", str(network), \":\")\n",
    "for host in network.hosts():\n",
    "    print(host)\n",
    "\n",
    "# iterate over the subnets of this network\n",
    "print(\"Subnets:\")\n",
    "for subnet in network.subnets(prefixlen_diff=2):\n",
    "    print(subnet)\n",
    "\n",
    "# get the supernet of this network\n",
    "print(\"Supernet:\", network.supernet(prefixlen_diff=1))\n",
    "\n",
    "# prefixlen_diff: An integer, the amount the prefix length of\n",
    "        #   the network should be decreased by.  For example, given a\n",
    "        #   /24 network and a prefixlen_diff of 3, a supernet with a\n",
    "        #   /21 netmask is returned.\n",
    "\n",
    "# tell if this network is under (or overlaps) 192.168.0.0/16\n",
    "print(\"Overlaps 192.168.0.0/16:\", network.overlaps(ipaddress.IPv4Network(\"192.168.0.0/16\")))"
   ]
  },
  {
   "cell_type": "code",
   "execution_count": null,
   "id": "f43384b9",
   "metadata": {},
   "outputs": [],
   "source": []
  }
 ],
 "metadata": {
  "kernelspec": {
   "display_name": "Python 3 (ipykernel)",
   "language": "python",
   "name": "python3"
  },
  "language_info": {
   "codemirror_mode": {
    "name": "ipython",
    "version": 3
   },
   "file_extension": ".py",
   "mimetype": "text/x-python",
   "name": "python",
   "nbconvert_exporter": "python",
   "pygments_lexer": "ipython3",
   "version": "3.9.7"
  }
 },
 "nbformat": 4,
 "nbformat_minor": 5
}
